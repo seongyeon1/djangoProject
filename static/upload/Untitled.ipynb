{
 "cells": [
  {
   "cell_type": "code",
   "execution_count": 7,
   "id": "667c18ff",
   "metadata": {
    "scrolled": true
   },
   "outputs": [
    {
     "name": "stdout",
     "output_type": "stream",
     "text": [
      "Collecting pytesseract\n",
      "  Using cached pytesseract-0.3.8.tar.gz (14 kB)\n",
      "Requirement already satisfied: Pillow in c:\\users\\kys86\\anaconda3\\lib\\site-packages (from pytesseract) (8.2.0)\n",
      "Building wheels for collected packages: pytesseract\n",
      "  Building wheel for pytesseract (setup.py): started\n",
      "  Building wheel for pytesseract (setup.py): finished with status 'done'\n",
      "  Created wheel for pytesseract: filename=pytesseract-0.3.8-py2.py3-none-any.whl size=14065 sha256=cb6c93e5dfc7cf423e60620694d3c631ed346190981695b591144e9bf4925500\n",
      "  Stored in directory: c:\\users\\kys86\\appdata\\local\\pip\\cache\\wheels\\ed\\8a\\c6\\40c7ec06c2dd3df636832537238128a1471bf9c1b6a3a9bf40\n",
      "Successfully built pytesseract\n",
      "Installing collected packages: pytesseract\n",
      "Successfully installed pytesseract-0.3.8\n"
     ]
    }
   ],
   "source": [
    "!pip install pytesseract"
   ]
  },
  {
   "cell_type": "code",
   "execution_count": 8,
   "id": "a936f483",
   "metadata": {
    "scrolled": true
   },
   "outputs": [
    {
     "name": "stdout",
     "output_type": "stream",
     "text": [
      " \n",
      "\n",
      "LETTER OF GUARANTEE\n",
      "\n",
      "Shipping Company L/G No. L/G Date\n",
      "2020-01-17\n",
      "Letter of Credit No, Date of Issue\n",
      "IV NO.\n",
      "\n",
      "Shipper Consignee\n",
      "KEB HANA BANK\n",
      "\n",
      "Port of Loading Bill of Lading No. Date of Issue\n",
      "CHENNAI, INDIA A 2026-01-03\n",
      "Port of Discharge or Place of Delivery Vessel Name/Voyage No.\n",
      "\n",
      "BUSAN, KOREA ace\n",
      "\n",
      "ray oie ses\n",
      "eneol uso [may\n",
      "\n",
      "Description of Goods\n",
      "|PHARMACEL 102 S@@0KG\n",
      "\n",
      "aren\n",
      "\n",
      " \n",
      "\n",
      " \n",
      "\n",
      " \n",
      "\n",
      "Whereas you have issued a Bill of Lading covering the above shipment.and the above cargo has been arrived at the above port of\n",
      "discharge(or the above place of delivery), we hereby request you to alve delivery of the said cargo to the above mentioned party\n",
      "without praduction of the original Bill of Lading.\n",
      "\n",
      " \n",
      "\n",
      " \n",
      "\n",
      "In consideration of your complying with our above. request, we hereby agree as follows :\n",
      "\n",
      "1. To indemnify you, your servants and agents and to noid all of you harrnless in respect of lability, loss, damage or\n",
      "expenses which you may sustain by reason of delivering the cargo in accordance with our request, provided that the\n",
      "undersigned Bank shall be exempt from fiahllity forfreiaht. yrs enses fi hier the contract of carrlage.\n",
      "\n",
      "2. As soon as the original Bil of Lading corfésporkaing wo ine above’ lt ib bur sséssion, we shall surrender\n",
      "the same to you, whereupon our liability hereunder shall cease,\n",
      "\n",
      "3. The liability of each and every person under this guarantee shall be joint and several and shail not be conditional upon\n",
      "\n",
      "your proceeding first against any person, whether or not such person is party to or llable under this guarantee,\n",
      "4, This quarantee shall be governed by and construed in accordance with Korean law and the jurisdiction of the competent court in Korea,\n",
      "\n",
      " \n",
      "\n",
      " \n",
      "\n",
      "Should the Bill of Lading hokler file a daim or bring a lawsuit against you, you shail notify the undersigned Bank as soon as possible,\n",
      "\n",
      "Yours faithfully,\n",
      "\n",
      "For and on behalf of For and on behaff of\n",
      "\n",
      "KEB Hana Bank\n",
      "|\n",
      "\n",
      "Mae Z oe\n",
      "\n",
      " \n",
      "\n",
      " \n",
      "\n",
      " \n",
      "\f",
      "\n"
     ]
    }
   ],
   "source": [
    "try:\n",
    "    from PIL import Image\n",
    "except ImportError:\n",
    "    import Image\n",
    "import pytesseract\n",
    "\n",
    "# If you don't have tesseract executable in your PATH, include the following:\n",
    "pytesseract.pytesseract.tesseract_cmd = r'C:\\Program Files\\Tesseract-OCR\\tesseract.exe'\n",
    "# Example tesseract_cmd = r'C:\\Program Files (x86)\\Tesseract-OCR\\tesseract'\n",
    "\n",
    "# Simple image to string\n",
    "print(pytesseract.image_to_string(Image.open('1.jpg')))"
   ]
  },
  {
   "cell_type": "code",
   "execution_count": null,
   "id": "c651abdf",
   "metadata": {},
   "outputs": [],
   "source": [
    "# In order to bypass the image conversions of pytesseract, just use relative or absolute image path\n",
    "# NOTE: In this case you should provide tesseract supported images or tesseract will return error\n",
    "print(pytesseract.image_to_string('test.png'))"
   ]
  }
 ],
 "metadata": {
  "kernelspec": {
   "display_name": "Python 3",
   "language": "python",
   "name": "python3"
  },
  "language_info": {
   "codemirror_mode": {
    "name": "ipython",
    "version": 3
   },
   "file_extension": ".py",
   "mimetype": "text/x-python",
   "name": "python",
   "nbconvert_exporter": "python",
   "pygments_lexer": "ipython3",
   "version": "3.8.8"
  }
 },
 "nbformat": 4,
 "nbformat_minor": 5
}
