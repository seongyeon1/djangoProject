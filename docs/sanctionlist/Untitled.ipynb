{
 "cells": [
  {
   "cell_type": "code",
   "execution_count": 2,
   "id": "1fdff284",
   "metadata": {},
   "outputs": [],
   "source": [
    "import numpy as np\n",
    "import pandas as pd"
   ]
  },
  {
   "cell_type": "code",
   "execution_count": 3,
   "id": "2db9ae10",
   "metadata": {},
   "outputs": [],
   "source": [
    "main = pd.read_csv('main.csv', index_col=0, na_values='-0- ')\n",
    "add = pd.read_csv('add.csv', index_col=0, na_values='-0- ')\n",
    "alt = pd.read_csv('alt.csv', index_col=0, na_values='-0- ')\n",
    "\n",
    "main.to_csv('main.csv')\n",
    "add.to_csv('add.csv')\n",
    "alt.to_csv('alt.csv')"
   ]
  },
  {
   "cell_type": "code",
   "execution_count": 9,
   "id": "a59c8c70",
   "metadata": {
    "scrolled": false
   },
   "outputs": [
    {
     "data": {
      "text/plain": [
       "0                                  AEROCARIBBEAN AIRLINES\n",
       "1                               ANGLO-CARIBBEAN CO., LTD.\n",
       "2                                  BANCO NACIONAL DE CUBA\n",
       "3                                      BOUTIQUE LA MAISON\n",
       "4                                            CASA DE CUBA\n",
       "                              ...                        \n",
       "9545            NANJING PANDA ELECTRONICS COMPANY LIMITED\n",
       "9546                                  AEROSUN CORPORATION\n",
       "9547        NORTH NAVIGATION CONTROL TECHNOLOGY CO., LTD.\n",
       "9548    SHAANXI ZHONGTIAN ROCKET TECHNOLOGY COMPANY LI...\n",
       "9549    ZHONGHANG ELECTRONIC MEASURING INSTRUMENTS COM...\n",
       "Name: SDN_Name, Length: 9550, dtype: object"
      ]
     },
     "execution_count": 9,
     "metadata": {},
     "output_type": "execute_result"
    }
   ],
   "source": [
    "main.SDN_Name"
   ]
  },
  {
   "cell_type": "code",
   "execution_count": 11,
   "id": "8042bc1d",
   "metadata": {},
   "outputs": [],
   "source": [
    "df = pd.DataFrame(main.SDN_Name)\n",
    "df.to_csv('sdn_name.txt',header=None,index=False)"
   ]
  },
  {
   "cell_type": "code",
   "execution_count": 7,
   "id": "4febd2a5",
   "metadata": {},
   "outputs": [
    {
     "data": {
      "text/plain": [
       "0                                                      NaN\n",
       "1                                 Ibex House, The Minories\n",
       "2                                         Zweierstrasse 35\n",
       "3                               Avenida de Concha Espina 8\n",
       "4        Dai-Ichi Bldg. 6th Floor, 10-2 Nihombashi, 2-c...\n",
       "                               ...                        \n",
       "14522                                     7, Jingtian Road\n",
       "14523    Jiangning Economic Zone, 188, Tianyuan Zhong Road\n",
       "14524    No. 2, Kechuang 15 Street, Economic Technology...\n",
       "14525                                                  NaN\n",
       "14526    High-Tech Industrial Development Zone, 166, We...\n",
       "Name: Address, Length: 14527, dtype: object"
      ]
     },
     "execution_count": 7,
     "metadata": {},
     "output_type": "execute_result"
    }
   ],
   "source": [
    "add.Address"
   ]
  },
  {
   "cell_type": "code",
   "execution_count": null,
   "id": "67b84885",
   "metadata": {},
   "outputs": [],
   "source": []
  }
 ],
 "metadata": {
  "kernelspec": {
   "display_name": "Python 3",
   "language": "python",
   "name": "python3"
  },
  "language_info": {
   "codemirror_mode": {
    "name": "ipython",
    "version": 3
   },
   "file_extension": ".py",
   "mimetype": "text/x-python",
   "name": "python",
   "nbconvert_exporter": "python",
   "pygments_lexer": "ipython3",
   "version": "3.8.8"
  }
 },
 "nbformat": 4,
 "nbformat_minor": 5
}
